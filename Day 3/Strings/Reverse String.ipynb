{
 "cells": [
  {
   "cell_type": "markdown",
   "id": "df070dfc-48aa-42a1-bb72-08543d2165af",
   "metadata": {},
   "source": [
    "# Problem 344: Reverse String\n",
    "\n",
    "## Problem Statement\n",
    "Write a function that reverses a string. The input string is given as an array of characters `s`.\n",
    "\n",
    "You must do this by modifying the input array in-place with O(1) extra memory.\n",
    "\n",
    "### Example\n",
    "**Input:**  \n",
    "s = [\"h\",\"e\",\"l\",\"l\",\"o\"]\n",
    "\n",
    "**Output:**  \n",
    "[\"o\",\"l\",\"l\",\"e\",\"h\"]\n",
    "\n",
    "### Constraints\n",
    "- 1 <= s.length <= 10^5\n",
    "- `s[i]` is a printable ASCII character.\n"
   ]
  },
  {
   "cell_type": "markdown",
   "id": "8be923b4-6e05-4df5-a00d-07add3dc159a",
   "metadata": {},
   "source": [
    "## Brute Force Approach\n",
    "\n",
    "### Algorithm\n",
    "1. Create an empty array `res`.\n",
    "2. Traverse the array `s` from the last index to the first.\n",
    "3. Append each character to `res`.\n",
    "4. Copy elements from `res` back into `s`.\n",
    "5. Return the modified array.\n"
   ]
  },
  {
   "cell_type": "code",
   "execution_count": null,
   "id": "1953436c-89b8-4ed9-a719-cba6db863016",
   "metadata": {},
   "outputs": [],
   "source": [
    "def reverseString_bruteforce(s: list[str]) -> None:\n",
    "    pass\n"
   ]
  },
  {
   "cell_type": "markdown",
   "id": "bdcddac4-b931-4448-beab-2cf50d38e86d",
   "metadata": {},
   "source": [
    "## Better Approach (Two-Pointer with Extra Space)\n",
    "\n",
    "### Algorithm\n",
    "1. Initialize two pointers: `i = 0` and `j = len(s) - 1`.\n",
    "2. While `i < j`:\n",
    "   - Swap `s[i]` and `s[j]` **using an auxiliary array** to temporarily hold values.\n",
    "   - Increment `i`, decrement `j`.\n",
    "3. Return the modified array.\n"
   ]
  },
  {
   "cell_type": "code",
   "execution_count": null,
   "id": "7da66dae-a27a-4e36-864e-93288f45a3ff",
   "metadata": {},
   "outputs": [],
   "source": [
    "def reverseString_better(s: list[str]) -> None:\n",
    "    pass\n"
   ]
  },
  {
   "cell_type": "markdown",
   "id": "f762cb93-a587-4cfa-b348-2450bafd0545",
   "metadata": {},
   "source": [
    "## Optimal Approach (In-Place Two-Pointer)\n",
    "\n",
    "### Algorithm\n",
    "1. Initialize two pointers: `i = 0` and `j = len(s) - 1`.\n",
    "2. While `i < j`:\n",
    "   - Swap `s[i]` and `s[j]` directly in-place.\n",
    "   - Increment `i`, decrement `j`.\n",
    "3. The array `s` is now reversed in-place.\n"
   ]
  },
  {
   "cell_type": "code",
   "execution_count": null,
   "id": "1b3338c5-e588-4bdd-90bc-f6de447cf5f3",
   "metadata": {},
   "outputs": [],
   "source": [
    "def reverseString_optimal(s: list[str]) -> None:\n",
    "    pass\n"
   ]
  }
 ],
 "metadata": {
  "kernelspec": {
   "display_name": "Python 3 (ipykernel)",
   "language": "python",
   "name": "python3"
  },
  "language_info": {
   "codemirror_mode": {
    "name": "ipython",
    "version": 3
   },
   "file_extension": ".py",
   "mimetype": "text/x-python",
   "name": "python",
   "nbconvert_exporter": "python",
   "pygments_lexer": "ipython3",
   "version": "3.12.6"
  }
 },
 "nbformat": 4,
 "nbformat_minor": 5
}
