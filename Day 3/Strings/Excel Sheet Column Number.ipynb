{
 "cells": [
  {
   "cell_type": "markdown",
   "id": "00f64da1-fd19-4145-a7e3-736cb0a315e6",
   "metadata": {},
   "source": [
    "# Problem 171: Excel Sheet Column Number\n",
    "\n",
    "## Problem Statement\n",
    "Given a string `columnTitle` that represents the column title as appears in an Excel sheet, return its corresponding column number.\n",
    "\n",
    "### Example\n",
    "**Input:**  \n",
    "columnTitle = \"AB\"\n",
    "\n",
    "**Output:**  \n",
    "28\n",
    "\n",
    "### Constraints\n",
    "- 1 <= columnTitle.length <= 7\n",
    "- columnTitle consists only of uppercase English letters.\n",
    "- columnTitle is between \"A\" and \"FXSHRXW\".\n"
   ]
  },
  {
   "cell_type": "markdown",
   "id": "6900bb6a-d210-4dfa-be8c-cd89f0f326bf",
   "metadata": {},
   "source": [
    "## Brute Force Approach\n",
    "\n",
    "### Algorithm\n",
    "1. For each character in `columnTitle`, map it to its position in the alphabet (A=1, B=2, ... Z=26).\n",
    "2. Store values in an array.\n",
    "3. Compute the column number by manually calculating power of 26 for each position.\n"
   ]
  },
  {
   "cell_type": "code",
   "execution_count": null,
   "id": "15c32d73-5478-44e5-9312-76b0adf121ed",
   "metadata": {},
   "outputs": [],
   "source": [
    "def titleToNumber_bruteforce(columnTitle: str) -> int:\n",
    "    pass\n"
   ]
  },
  {
   "cell_type": "markdown",
   "id": "404bd1ef-2098-4f61-8ca8-50e2faf8132b",
   "metadata": {},
   "source": [
    "## Better Approach\n",
    "\n",
    "### Algorithm\n",
    "1. Traverse `columnTitle` from left to right.\n",
    "2. Maintain a result variable.\n",
    "3. For each character:\n",
    "   - Convert it to a number (`ord(char) - ord('A') + 1`).\n",
    "   - Multiply it by 26 raised to the appropriate power and add to result.\n",
    "4. Return result.\n"
   ]
  },
  {
   "cell_type": "code",
   "execution_count": 1,
   "id": "2eb4a294-3e42-4046-9cd6-388c2a476bcb",
   "metadata": {},
   "outputs": [],
   "source": [
    "def titleToNumber_better(columnTitle: str) -> int:\n",
    "    pass\n"
   ]
  },
  {
   "cell_type": "markdown",
   "id": "bd62d0c1-b212-42d2-adce-279ac962fe23",
   "metadata": {},
   "source": [
    "## Optimal Approach\n",
    "\n",
    "### Algorithm\n",
    "1. Initialize result = 0.\n",
    "2. For each character in `columnTitle`:\n",
    "   - Multiply result by 26.\n",
    "   - Add the value of the current character (`ord(char) - ord('A') + 1`).\n",
    "3. Return result.\n"
   ]
  },
  {
   "cell_type": "code",
   "execution_count": 6,
   "id": "e2259f4f-81a7-4d29-a635-ed0f293b7c9e",
   "metadata": {},
   "outputs": [
    {
     "name": "stdout",
     "output_type": "stream",
     "text": [
      "28\n"
     ]
    }
   ],
   "source": [
    "def titleToNumber_optimal(columnTitle: str) -> int:\n",
    "    result = 0\n",
    "    for i in range(len(columnTitle)):\n",
    "        result += (26 ** (len(columnTitle) - i - 1))*(ord(columnTitle[i]) - ord(\"A\") + 1)\n",
    "    return result\n",
    "\n",
    "    \n",
    "\n",
    "print(titleToNumber_optimal(\"AB\"))"
   ]
  },
  {
   "cell_type": "code",
   "execution_count": null,
   "id": "b0040d7c-a018-4c1b-b4aa-728a6330c490",
   "metadata": {},
   "outputs": [],
   "source": []
  }
 ],
 "metadata": {
  "kernelspec": {
   "display_name": "Python 3 (ipykernel)",
   "language": "python",
   "name": "python3"
  },
  "language_info": {
   "codemirror_mode": {
    "name": "ipython",
    "version": 3
   },
   "file_extension": ".py",
   "mimetype": "text/x-python",
   "name": "python",
   "nbconvert_exporter": "python",
   "pygments_lexer": "ipython3",
   "version": "3.12.6"
  }
 },
 "nbformat": 4,
 "nbformat_minor": 5
}
