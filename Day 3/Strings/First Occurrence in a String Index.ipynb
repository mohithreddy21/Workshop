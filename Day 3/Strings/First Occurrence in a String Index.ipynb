{
 "cells": [
  {
   "cell_type": "markdown",
   "id": "70e0a557-d44c-44a3-b7b2-10fdb36c90c8",
   "metadata": {},
   "source": [
    "# Problem 28: Find the Index of the First Occurrence in a String\n",
    "\n",
    "## Problem Statement\n",
    "Given two strings `haystack` and `needle`, return the index of the first occurrence of `needle` in `haystack`, or -1 if `needle` is not part of `haystack`.\n",
    "\n",
    "### Example\n",
    "**Input:**  \n",
    "haystack = \"sadbutsad\", needle = \"sad\"\n",
    "\n",
    "**Output:**  \n",
    "0\n",
    "\n",
    "**Input:**  \n",
    "haystack = \"leetcode\", needle = \"leeto\"\n",
    "\n",
    "**Output:**  \n",
    "-1\n",
    "\n",
    "### Constraints\n",
    "- 1 <= haystack.length, needle.length <= 10^4\n",
    "- haystack and needle consist of only lowercase English characters.\n"
   ]
  },
  {
   "cell_type": "markdown",
   "id": "4448b42d-f369-4fd9-9524-dd5f4d3af6ac",
   "metadata": {},
   "source": [
    "## Brute Force Approach\n",
    "\n",
    "### Algorithm\n",
    "1. Loop through each index `i` in `haystack` up to `len(haystack) - len(needle)`.\n",
    "2. For each `i`, check if substring `haystack[i:i+len(needle)]` matches `needle`.\n",
    "3. If found, return index `i`.\n",
    "4. Otherwise, return -1.\n"
   ]
  },
  {
   "cell_type": "code",
   "execution_count": null,
   "id": "93e59829-1880-448e-9b28-f74ed6a02e0a",
   "metadata": {},
   "outputs": [],
   "source": [
    "def strStr_bruteforce(haystack: str, needle: str) -> int:\n",
    "    pass\n"
   ]
  },
  {
   "cell_type": "markdown",
   "id": "9bcc22cf-63f5-4cd0-80d4-cc6d38067677",
   "metadata": {},
   "source": [
    "## Better Approach (Built-in Find)\n",
    "\n",
    "### Algorithm\n",
    "1. Use Python's built-in `find` function to locate the index.\n",
    "2. If found, return the index.\n",
    "3. Otherwise, return -1.\n"
   ]
  },
  {
   "cell_type": "code",
   "execution_count": null,
   "id": "2f4d9d12-13dd-4f10-8a75-86c45213638f",
   "metadata": {},
   "outputs": [],
   "source": [
    "def strStr_better(haystack: str, needle: str) -> int:\n",
    "    pass\n"
   ]
  },
  {
   "cell_type": "markdown",
   "id": "0e673a9d-d980-429e-96e3-3fc9c7729c6d",
   "metadata": {},
   "source": [
    "## Optimal Approach (KMP Algorithm)\n",
    "\n",
    "### Algorithm\n",
    "1. Build the LPS (Longest Prefix Suffix) array for the `needle`.\n",
    "2. Traverse the `haystack` while matching characters with `needle`.\n",
    "3. If a mismatch occurs, use the LPS array to skip unnecessary comparisons.\n",
    "4. Return the starting index if a full match is found, otherwise -1.\n"
   ]
  },
  {
   "cell_type": "code",
   "execution_count": null,
   "id": "5efcc23d-1635-40c1-bd18-17064c7e6d90",
   "metadata": {},
   "outputs": [],
   "source": [
    "def strStr_optimal(haystack: str, needle: str) -> int:\n",
    "    pass\n"
   ]
  }
 ],
 "metadata": {
  "kernelspec": {
   "display_name": "Python 3 (ipykernel)",
   "language": "python",
   "name": "python3"
  },
  "language_info": {
   "codemirror_mode": {
    "name": "ipython",
    "version": 3
   },
   "file_extension": ".py",
   "mimetype": "text/x-python",
   "name": "python",
   "nbconvert_exporter": "python",
   "pygments_lexer": "ipython3",
   "version": "3.12.6"
  }
 },
 "nbformat": 4,
 "nbformat_minor": 5
}
