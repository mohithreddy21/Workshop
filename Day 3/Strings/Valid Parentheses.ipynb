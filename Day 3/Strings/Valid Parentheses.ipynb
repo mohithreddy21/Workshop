{
 "cells": [
  {
   "cell_type": "markdown",
   "id": "a320649f-3990-4953-af93-8fdf05c35435",
   "metadata": {},
   "source": [
    "# Problem 20: Valid Parentheses\n",
    "\n",
    "## Problem Statement\n",
    "Given a string `s` containing just the characters '(', ')', '{', '}', '[' and ']', determine if the input string is valid.\n",
    "\n",
    "An input string is valid if:\n",
    "- Open brackets must be closed by the same type of brackets.\n",
    "- Open brackets must be closed in the correct order.\n",
    "- Every close bracket has a corresponding open bracket of the same type.\n",
    "\n",
    "### Example\n",
    "**Input:**  \n",
    "s = \"()[]{}\"\n",
    "\n",
    "**Output:**  \n",
    "true\n",
    "\n",
    "**Input:**  \n",
    "s = \"(]\"\n",
    "\n",
    "**Output:**  \n",
    "false\n",
    "\n",
    "### Constraints\n",
    "- 1 <= s.length <= 10^4\n",
    "- `s` consists of parentheses only '()[]{}'.\n"
   ]
  },
  {
   "cell_type": "markdown",
   "id": "f3e83c1b-1071-4c9b-8bfe-e73767327e7e",
   "metadata": {},
   "source": [
    "## Brute Force Approach\n",
    "\n",
    "### Algorithm\n",
    "1. While the string contains \"()\", \"{}\", or \"[]\":\n",
    "   - Replace all occurrences with an empty string.\n",
    "2. If the final string is empty, return True.\n",
    "3. Otherwise, return False.\n"
   ]
  },
  {
   "cell_type": "code",
   "execution_count": null,
   "id": "8038a3a0-9900-4da5-a736-b3b349b97a3e",
   "metadata": {},
   "outputs": [],
   "source": [
    "def isValid_bruteforce(s: str) -> bool:\n",
    "    pass\n"
   ]
  },
  {
   "cell_type": "markdown",
   "id": "6a607af8-65f4-4e3f-8ad7-5c1f85c8e07e",
   "metadata": {},
   "source": [
    "## Better Approach (Using Stack)\n",
    "\n",
    "### Algorithm\n",
    "1. Initialize an empty stack.\n",
    "2. Traverse each character in `s`.\n",
    "   - If it's an opening bracket, push it to the stack.\n",
    "   - If it's a closing bracket, check the top of the stack.\n",
    "     - If it matches the corresponding opening bracket, pop it.\n",
    "     - Otherwise, return False.\n",
    "3. If the stack is empty at the end, return True, else False.\n"
   ]
  },
  {
   "cell_type": "code",
   "execution_count": null,
   "id": "758f588b-7127-4ec4-83f2-170ab9f24b97",
   "metadata": {},
   "outputs": [],
   "source": [
    "def isValid_better(s: str) -> bool:\n",
    "    temp = [\"[\",\"(\",\"{\"]\n",
    "    stack = []\n",
    "    for i in s:\n",
    "        if i in temp:\n",
    "            stack.append(i)\n",
    "        elif i == \"\n"
   ]
  },
  {
   "cell_type": "markdown",
   "id": "238c8f97-ef0c-4810-a7e2-670c0b667e9d",
   "metadata": {},
   "source": [
    "## Optimal Approach\n",
    "\n",
    "### Algorithm\n",
    "(Same as Better Approach – stack is already O(n) time and O(n) space, which is optimal for this problem.)\n"
   ]
  },
  {
   "cell_type": "code",
   "execution_count": null,
   "id": "953f674b-84a4-48bd-aee1-023e1d5aff0b",
   "metadata": {},
   "outputs": [],
   "source": [
    "def isValid_optimal(s: str) -> bool:\n",
    "    pass\n"
   ]
  }
 ],
 "metadata": {
  "kernelspec": {
   "display_name": "Python 3 (ipykernel)",
   "language": "python",
   "name": "python3"
  },
  "language_info": {
   "codemirror_mode": {
    "name": "ipython",
    "version": 3
   },
   "file_extension": ".py",
   "mimetype": "text/x-python",
   "name": "python",
   "nbconvert_exporter": "python",
   "pygments_lexer": "ipython3",
   "version": "3.12.6"
  }
 },
 "nbformat": 4,
 "nbformat_minor": 5
}
