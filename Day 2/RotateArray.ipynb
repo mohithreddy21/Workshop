{
 "cells": [
  {
   "cell_type": "markdown",
   "id": "4d4bab6b-3664-41cb-a868-69b13c303015",
   "metadata": {},
   "source": [
    "## Problem 11: Rotate Array (#189)\n",
    "\n",
    "### Problem Statement\n",
    "Given an integer array `nums`, rotate the array to the right by `k` steps, where `k` is non-negative.\n",
    "\n",
    "---\n",
    "\n",
    "### Example\n",
    "Input: `nums = [1,2,3,4,5,6,7], k = 3`  \n",
    "Output: `[5,6,7,1,2,3,4]`\n",
    "\n",
    "---\n",
    "\n",
    "### Constraints\n",
    "- `1 <= nums.length <= 10^5`  \n",
    "- `-2^31 <= nums[i] <= 2^31 - 1`  \n",
    "- `0 <= k <= 10^5`\n",
    "\n",
    "---"
   ]
  },
  {
   "cell_type": "markdown",
   "id": "48908185-4170-4e0b-ab14-534a6e20e1d0",
   "metadata": {},
   "source": [
    "### Algorithms\n",
    "\n",
    "**Brute Force Approach**  \n",
    "- Rotate one step at a time, `k` times.  \n",
    "- **Time Complexity:** O(n * k)  \n",
    "- **Space Complexity:** O(1)"
   ]
  },
  {
   "cell_type": "code",
   "execution_count": null,
   "id": "3f5fbdf2-ddd1-4647-8034-9b9b3e03111b",
   "metadata": {},
   "outputs": [],
   "source": [
    "# Brute Force\n",
    "def rotate_bruteforce(nums: list[int], k: int) -> None:\n",
    "    pass"
   ]
  },
  {
   "cell_type": "markdown",
   "id": "3e641254-1a54-48c0-ba6d-94b72040904f",
   "metadata": {},
   "source": [
    "**Better Approach (Using Extra Array)**  \n",
    "- Copy last `k` elements to front using an extra array.  \n",
    "- Copy remaining elements after them.  \n",
    "- **Time Complexity:** O(n)  \n",
    "- **Space Complexity:** O(n)"
   ]
  },
  {
   "cell_type": "code",
   "execution_count": null,
   "id": "5a88e5c6-baeb-46fa-8c83-88d8928ec00d",
   "metadata": {},
   "outputs": [],
   "source": [
    "# Better Approach\n",
    "def rotate_better(nums: list[int], k: int) -> None:\n",
    "    pass"
   ]
  },
  {
   "cell_type": "markdown",
   "id": "1860f947-6c43-4ed3-a1a7-3dfaa62ec282",
   "metadata": {},
   "source": [
    "**Optimal Approach (Reverse Method)**  \n",
    "- Reverse whole array.  \n",
    "- Reverse first `k` elements.  \n",
    "- Reverse remaining `n-k` elements.  \n",
    "- **Time Complexity:** O(n)  \n",
    "- **Space Complexity:** O(1)"
   ]
  },
  {
   "cell_type": "code",
   "execution_count": null,
   "id": "416a39e1-bc29-409c-b358-348df9d8ad79",
   "metadata": {},
   "outputs": [],
   "source": [
    "# Optimal Approach\n",
    "def rotate(nums: list[int], k: int) -> None:\n",
    "    pass"
   ]
  }
 ],
 "metadata": {
  "kernelspec": {
   "display_name": "Python 3 (ipykernel)",
   "language": "python",
   "name": "python3"
  },
  "language_info": {
   "codemirror_mode": {
    "name": "ipython",
    "version": 3
   },
   "file_extension": ".py",
   "mimetype": "text/x-python",
   "name": "python",
   "nbconvert_exporter": "python",
   "pygments_lexer": "ipython3",
   "version": "3.12.6"
  }
 },
 "nbformat": 4,
 "nbformat_minor": 5
}
