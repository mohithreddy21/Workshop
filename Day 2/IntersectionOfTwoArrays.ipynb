{
 "cells": [
  {
   "cell_type": "markdown",
   "id": "a156614b-524c-4492-bfca-ff88b3d17ebf",
   "metadata": {},
   "source": [
    "## Problem 13: Intersection of Two Arrays II (#350)\n",
    "\n",
    "### Problem Statement\n",
    "Given two integer arrays `nums1` and `nums2`, return an array of their intersection.  \n",
    "Each element in the result must appear as many times as it shows in both arrays.  \n",
    "You may return the result in **any order**.\n",
    "\n",
    "---\n",
    "\n",
    "### Example\n",
    "Input: `nums1 = [1,2,2,1], nums2 = [2,2]`  \n",
    "Output: `[2,2]`\n",
    "\n",
    "---\n",
    "\n",
    "### Constraints\n",
    "- `1 <= nums1.length, nums2.length <= 1000`  \n",
    "- `0 <= nums1[i], nums2[i] <= 1000`\n",
    "\n",
    "---"
   ]
  },
  {
   "cell_type": "markdown",
   "id": "1eaaac75-a544-422e-9bec-717a6b641808",
   "metadata": {},
   "source": [
    "### Algorithms\n",
    "\n",
    "**Brute Force Approach**  \n",
    "- For each element in `nums1`, check if it exists in `nums2`.  \n",
    "- If yes, add to result and mark as used.  \n",
    "- **Time Complexity:** O(n * m)"
   ]
  },
  {
   "cell_type": "code",
   "execution_count": 3,
   "id": "eb80fdbd-8ba2-4039-b150-b7d97e7faf3c",
   "metadata": {},
   "outputs": [
    {
     "data": {
      "text/plain": [
       "[2, 2]"
      ]
     },
     "execution_count": 3,
     "metadata": {},
     "output_type": "execute_result"
    }
   ],
   "source": [
    "# Brute Force\n",
    "def intersect_bruteforce(nums1: list[int], nums2: list[int]) -> list[int]:\n",
    "    seen = []\n",
    "    result = []\n",
    "    for i in range(len(nums1)):\n",
    "        for j in range(len(nums2)):\n",
    "            if nums1[i] == nums2[j] and j not in seen:\n",
    "                result.append(nums1[i])\n",
    "                seen.append(j)\n",
    "                break\n",
    "        \n",
    "    return result\n",
    "nums1 = [1,2,2,1]\n",
    "nums2 = [2,2]\n",
    "intersect_bruteforce(nums1, nums2)"
   ]
  },
  {
   "cell_type": "markdown",
   "id": "cddc0059-8c1f-40e5-a109-1ba636472d78",
   "metadata": {},
   "source": [
    "\n",
    "**Better Approach (Sorting + Two Pointers)**  \n",
    "- Sort both arrays.  \n",
    "- Use two pointers to find common elements.  \n",
    "- **Time Complexity:** O(n log n + m log m)"
   ]
  },
  {
   "cell_type": "code",
   "execution_count": null,
   "id": "9803b3a2-e0e4-4e8f-95f1-50c14851523d",
   "metadata": {},
   "outputs": [],
   "source": [
    "# Better Approach\n",
    "def intersect_better(nums1: list[int], nums2: list[int]) -> list[int]:\n",
    "    pass"
   ]
  },
  {
   "cell_type": "markdown",
   "id": "f966e637-4a5d-4204-b2d5-6e60a0a92861",
   "metadata": {},
   "source": [
    "**Optimal Approach (HashMap/Counter)**  \n",
    "- Count frequencies of `nums1`.  \n",
    "- Traverse `nums2` and check counts.  \n",
    "- **Time Complexity:** O(n + m), **Space Complexity:** O(min(n, m))"
   ]
  },
  {
   "cell_type": "code",
   "execution_count": null,
   "id": "7e556f56-93d1-44aa-8686-9c9519ac62b3",
   "metadata": {},
   "outputs": [],
   "source": [
    "# Optimal Approach\n",
    "def intersect(nums1: list[int], nums2: list[int]) -> list[int]:\n",
    "    pass"
   ]
  }
 ],
 "metadata": {
  "kernelspec": {
   "display_name": "Python 3 (ipykernel)",
   "language": "python",
   "name": "python3"
  },
  "language_info": {
   "codemirror_mode": {
    "name": "ipython",
    "version": 3
   },
   "file_extension": ".py",
   "mimetype": "text/x-python",
   "name": "python",
   "nbconvert_exporter": "python",
   "pygments_lexer": "ipython3",
   "version": "3.12.6"
  }
 },
 "nbformat": 4,
 "nbformat_minor": 5
}
