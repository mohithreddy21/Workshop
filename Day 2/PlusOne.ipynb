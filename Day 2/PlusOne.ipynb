{
 "cells": [
  {
   "cell_type": "markdown",
   "id": "fa11f0ef-d9a8-494b-b643-28d980e5a67e",
   "metadata": {},
   "source": [
    "## Problem 14: Plus One (#66)\n",
    "\n",
    "### Problem Statement\n",
    "You are given a large integer represented as an integer array `digits`, where each `digits[i]` is the ith digit of the integer.  \n",
    "The digits are ordered from most significant to least significant.  \n",
    "Increment the large integer by one and return the resulting array of digits.\n",
    "\n",
    "---\n",
    "\n",
    "### Example\n",
    "Input: `digits = [1,2,3]`  \n",
    "Output: `[1,2,4]`\n",
    "\n",
    "---\n",
    "\n",
    "### Constraints\n",
    "- `1 <= digits.length <= 100`  \n",
    "- `0 <= digits[i] <= 9`  \n",
    "- `digits` does not contain any leading `0`.\n",
    "\n",
    "---"
   ]
  },
  {
   "cell_type": "markdown",
   "id": "63728fb3-d202-4e94-aa4c-91d06ec43c05",
   "metadata": {},
   "source": [
    "### Algorithms\n",
    "\n",
    "**Brute Force Approach**  \n",
    "- Convert array to integer.  \n",
    "- Add 1.  \n",
    "- Convert back to array.  \n",
    "- **Time Complexity:** O(n), but may fail for very large numbers."
   ]
  },
  {
   "cell_type": "code",
   "execution_count": null,
   "id": "9b2fa08e-96da-48a6-b6af-7746d90e7256",
   "metadata": {},
   "outputs": [],
   "source": [
    "# Brute Force\n",
    "def plusOne_bruteforce(digits: list[int]) -> list[int]:\n",
    "    pass"
   ]
  },
  {
   "cell_type": "markdown",
   "id": "27618fec-6a4b-493f-9314-7a701ec058f5",
   "metadata": {},
   "source": [
    "**Optimal Approach (Digit-wise Addition)**  \n",
    "- Start from last digit.  \n",
    "- If digit < 9, increment and return.  \n",
    "- Else set digit to 0 and carry over.  \n",
    "- If carry at end, add `1` at front.  \n",
    "- **Time Complexity:** O(n), **Space Complexity:** O(1)"
   ]
  },
  {
   "cell_type": "code",
   "execution_count": null,
   "id": "1ac1a2c7-654c-4e20-8d83-2183ecf539f7",
   "metadata": {},
   "outputs": [],
   "source": [
    "# Optimal Approach\n",
    "def plusOne(digits: list[int]) -> list[int]:\n",
    "    pass"
   ]
  }
 ],
 "metadata": {
  "kernelspec": {
   "display_name": "Python 3 (ipykernel)",
   "language": "python",
   "name": "python3"
  },
  "language_info": {
   "codemirror_mode": {
    "name": "ipython",
    "version": 3
   },
   "file_extension": ".py",
   "mimetype": "text/x-python",
   "name": "python",
   "nbconvert_exporter": "python",
   "pygments_lexer": "ipython3",
   "version": "3.12.6"
  }
 },
 "nbformat": 4,
 "nbformat_minor": 5
}
