{
 "cells": [
  {
   "cell_type": "markdown",
   "id": "854df0df-ca82-4318-a883-5748c0bb367c",
   "metadata": {},
   "source": [
    "## Problem 12: Contains Duplicate (#217)\n",
    "\n",
    "### Problem Statement\n",
    "Given an integer array `nums`, return `true` if any value appears at least twice in the array, and return `false` if every element is distinct.\n",
    "\n",
    "---\n",
    "\n",
    "### Example\n",
    "Input: `nums = [1,2,3,1]`  \n",
    "Output: `true`\n",
    "\n",
    "---\n",
    "\n",
    "### Constraints\n",
    "- `1 <= nums.length <= 10^5`  \n",
    "- `-10^9 <= nums[i] <= 10^9`\n",
    "\n",
    "---"
   ]
  },
  {
   "cell_type": "markdown",
   "id": "839d6640-ef6e-4eba-b578-33aef5f13655",
   "metadata": {},
   "source": [
    "### Algorithms\n",
    "\n",
    "**Brute Force Approach**  \n",
    "- Compare each pair of elements.  \n",
    "- **Time Complexity:** O(n²)"
   ]
  },
  {
   "cell_type": "code",
   "execution_count": null,
   "id": "95d89012-180c-4362-a7d2-8b2c83ceb0a1",
   "metadata": {},
   "outputs": [],
   "source": [
    "# Brute Force\n",
    "def containsDuplicate_bruteforce(nums: list[int]) -> bool:\n",
    "    pass"
   ]
  },
  {
   "cell_type": "markdown",
   "id": "9121fed5-0f4d-486f-ae0b-bc07a057b342",
   "metadata": {},
   "source": [
    "**Better Approach (Sorting)**  \n",
    "- Sort array and check adjacent elements.  \n",
    "- **Time Complexity:** O(n log n)  \n",
    "- **Space Complexity:** O(1)"
   ]
  },
  {
   "cell_type": "code",
   "execution_count": null,
   "id": "ca4ff435-75e6-44fc-a04b-28045c980116",
   "metadata": {},
   "outputs": [],
   "source": [
    "# Better Approach\n",
    "def containsDuplicate_better(nums: list[int]) -> bool:\n",
    "    pass"
   ]
  },
  {
   "cell_type": "markdown",
   "id": "9a0bf53b-fb4a-4cc2-ba44-f7c83217d2b0",
   "metadata": {},
   "source": [
    "**Optimal Approach (HashSet)**  \n",
    "- Use a set to track seen numbers.  \n",
    "- If already present → return true.  \n",
    "- **Time Complexity:** O(n)  \n",
    "- **Space Complexity:** O(n)"
   ]
  },
  {
   "cell_type": "code",
   "execution_count": null,
   "id": "ac48b841-c0a9-47d3-9bcf-6854706e5164",
   "metadata": {},
   "outputs": [],
   "source": [
    "# Optimal Approach\n",
    "def containsDuplicate(nums: list[int]) -> bool:\n",
    "    pass"
   ]
  }
 ],
 "metadata": {
  "kernelspec": {
   "display_name": "Python 3 (ipykernel)",
   "language": "python",
   "name": "python3"
  },
  "language_info": {
   "codemirror_mode": {
    "name": "ipython",
    "version": 3
   },
   "file_extension": ".py",
   "mimetype": "text/x-python",
   "name": "python",
   "nbconvert_exporter": "python",
   "pygments_lexer": "ipython3",
   "version": "3.12.6"
  }
 },
 "nbformat": 4,
 "nbformat_minor": 5
}
