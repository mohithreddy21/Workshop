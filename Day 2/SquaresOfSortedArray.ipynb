{
 "cells": [
  {
   "cell_type": "markdown",
   "id": "cb3370db-776d-431e-8547-3e8722a1e9cf",
   "metadata": {},
   "source": [
    "## Problem 10: Squares of a Sorted Array (#977)\n",
    "\n",
    "### Problem Statement\n",
    "Given an integer array `nums` sorted in non-decreasing order, return an array of the squares of each number, also sorted in non-decreasing order.\n",
    "\n",
    "---\n",
    "\n",
    "### Example\n",
    "Input: `nums = [-4,-1,0,3,10]`  \n",
    "Output: `[0,1,9,16,100]`\n",
    "\n",
    "Input: `nums = [-7,-3,2,3,11]`  \n",
    "Output: `[4,9,9,49,121]`\n",
    "\n",
    "---\n",
    "\n",
    "### Constraints\n",
    "- `1 <= nums.length <= 10^4`  \n",
    "- `-10^4 <= nums[i] <= 10^4`  \n",
    "- `nums` is sorted in **non-decreasing** order.\n",
    "\n",
    "---\n"
   ]
  },
  {
   "cell_type": "markdown",
   "id": "09d6c00b-7325-45f9-a773-13196257cdbf",
   "metadata": {},
   "source": [
    "### Algorithms\n",
    "\n",
    "**Brute Force Approach**  \n",
    "- Square each element in the array.  \n",
    "- Sort the array.  \n",
    "- Return the sorted squared array.  \n",
    "- **Time Complexity:** O(n log n)  \n",
    "- **Space Complexity:** O(n)"
   ]
  },
  {
   "cell_type": "code",
   "execution_count": null,
   "id": "29895036-8199-4aa0-b2cd-d2801bb0ca02",
   "metadata": {},
   "outputs": [],
   "source": [
    "# Brute Force\n",
    "def sortedSquares_bruteforce(nums: list[int]) -> list[int]:\n",
    "    pass"
   ]
  },
  {
   "cell_type": "markdown",
   "id": "65a5641d-33ef-4140-8726-6b8dccb4ed3c",
   "metadata": {},
   "source": [
    "**Optimal Approach (Two Pointers)**  \n",
    "- Use two pointers: one at start (`l`), one at end (`r`).  \n",
    "- Compare absolute values of `nums[l]` and `nums[r]`.  \n",
    "- Place the larger square at the end of the result array.  \n",
    "- Move the pointer accordingly.  \n",
    "- Continue until all elements are processed.  \n",
    "- **Time Complexity:** O(n)  \n",
    "- **Space Complexity:** O(n)"
   ]
  },
  {
   "cell_type": "code",
   "execution_count": null,
   "id": "e9fa7adf-9837-45cf-aed5-e4954e6e877b",
   "metadata": {},
   "outputs": [],
   "source": [
    "# Optimal Approach\n",
    "def sortedSquares(nums: list[int]) -> list[int]:\n",
    "    pass"
   ]
  }
 ],
 "metadata": {
  "kernelspec": {
   "display_name": "Python 3 (ipykernel)",
   "language": "python",
   "name": "python3"
  },
  "language_info": {
   "codemirror_mode": {
    "name": "ipython",
    "version": 3
   },
   "file_extension": ".py",
   "mimetype": "text/x-python",
   "name": "python",
   "nbconvert_exporter": "python",
   "pygments_lexer": "ipython3",
   "version": "3.12.6"
  }
 },
 "nbformat": 4,
 "nbformat_minor": 5
}
