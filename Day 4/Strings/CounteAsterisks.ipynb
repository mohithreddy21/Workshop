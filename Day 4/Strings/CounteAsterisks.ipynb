{
 "cells": [
  {
   "cell_type": "markdown",
   "id": "5e712802-c28b-446a-8103-2a02751107b9",
   "metadata": {},
   "source": [
    "# 2315. Count Asterisks\n",
    "\n",
    "## Problem Statement\n",
    "You are given a string `s`, where every pair of consecutive vertical bars `|` in `s` represents a locked section.  \n",
    "Count the number of asterisks `*` that are not between any pair of bars.\n",
    "\n",
    "### Example 1\n",
    "Input: s = \"l|eet|c**o|*de|\"\n",
    "Output: 2\n",
    "\n",
    "\n",
    "### Example 2\n",
    "Input: s = \"iamprogrammer\"\n",
    "Output: 0\n",
    "\n",
    "### Example 3\n",
    "Input: s = \"yo|uar|e**|b|e***au|tifu|l\"\n",
    "Output: 5\n",
    "\n",
    "### Constraints\n",
    "- 1 <= s.length <= 1000\n",
    "- `s` consists of lowercase English letters, `*`, and `|`.\n",
    "- `s` contains an even number of `|` characters.\n",
    "\n",
    "---"
   ]
  },
  {
   "cell_type": "markdown",
   "id": "36389c8e-5b26-4101-a466-b025f550679b",
   "metadata": {},
   "source": [
    "## Brute Force Algorithm\n",
    "1. Split the string using `|`.  \n",
    "2. Count `*` in only even-indexed parts (outside locked sections).  \n",
    "- **Time Complexity:** O(n)  \n",
    "- **Space Complexity:** O(n)  "
   ]
  },
  {
   "cell_type": "code",
   "execution_count": null,
   "id": "0fdddfdd-160a-4797-9232-887c2848e507",
   "metadata": {},
   "outputs": [],
   "source": [
    "\n",
    "def countAsterisks(self, s: str) -> int:\n",
    "    pass\n",
    "\n"
   ]
  },
  {
   "cell_type": "markdown",
   "id": "4b0494a2-ae91-493f-a76c-177f952938a7",
   "metadata": {},
   "source": [
    "## Optimal Algorithm\n",
    "1. Iterate over the string with a flag `inside = False`.  \n",
    "2. Flip flag when encountering `|`.  \n",
    "3. Count `*` only if `inside == False`.  \n",
    "- **Time Complexity:** O(n)  \n",
    "- **Space Complexity:** O(1)"
   ]
  },
  {
   "cell_type": "code",
   "execution_count": null,
   "id": "5a93da62-63a5-4f4d-a7c8-ba535fc349b0",
   "metadata": {},
   "outputs": [],
   "source": [
    "def countAsterisks(self, s: str) -> int:\n",
    "    pass"
   ]
  }
 ],
 "metadata": {
  "kernelspec": {
   "display_name": "Python 3 (ipykernel)",
   "language": "python",
   "name": "python3"
  },
  "language_info": {
   "codemirror_mode": {
    "name": "ipython",
    "version": 3
   },
   "file_extension": ".py",
   "mimetype": "text/x-python",
   "name": "python",
   "nbconvert_exporter": "python",
   "pygments_lexer": "ipython3",
   "version": "3.12.6"
  }
 },
 "nbformat": 4,
 "nbformat_minor": 5
}
