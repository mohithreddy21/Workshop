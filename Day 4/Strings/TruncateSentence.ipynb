{
 "cells": [
  {
   "cell_type": "markdown",
   "id": "07ff20d1-e174-4099-9f2e-c04aa293a919",
   "metadata": {},
   "source": [
    "# 1816. Truncate Sentence\n",
    "\n",
    "## Problem Statement\n",
    "A sentence is a list of words separated by single spaces with no leading or trailing spaces.  \n",
    "You are given a sentence `s` and an integer `k`.  \n",
    "Truncate `s` after the first `k` words and return the resulting string.\n",
    "\n",
    "### Example 1\n",
    "Input: s = \"Hello how are you Contestant\", k = 4\n",
    "Output: \"Hello how are you\"\n",
    "\n",
    "\n",
    "### Example 2\n",
    "Input: s = \"What is the solution to this problem\", k = 4\n",
    "Output: \"What is the solution\"\n",
    "\n",
    "\n",
    "### Constraints\n",
    "- 1 <= s.length <= 500\n",
    "- `k` is in the range [1, number of words in s].\n",
    "- `s` consists of only lowercase and uppercase English letters and spaces.\n",
    "\n",
    "---\n",
    "\n"
   ]
  },
  {
   "cell_type": "markdown",
   "id": "858e339f-b327-4ffc-946d-ba8f88e59733",
   "metadata": {},
   "source": [
    "## Brute Force Algorithm\n",
    "1. Split the string into words.  \n",
    "2. Join the first `k` words.  \n",
    "- **Time Complexity:** O(n)  \n",
    "- **Space Complexity:** O(n) "
   ]
  },
  {
   "cell_type": "code",
   "execution_count": null,
   "id": "4798295b-bf0d-4895-94a4-7813c004368c",
   "metadata": {},
   "outputs": [],
   "source": [
    "class Solution:\n",
    "    def truncateSentence(self, s: str, k: int) -> str:\n",
    "        pass"
   ]
  },
  {
   "cell_type": "markdown",
   "id": "7d776d97-f657-4f36-ac6c-2701f6aea385",
   "metadata": {},
   "source": [
    "\n",
    "## Optimal Algorithm\n",
    "1. Scan the string, counting spaces until reaching `k`.  \n",
    "2. Return substring up to that point.  \n",
    "- **Time Complexity:** O(n)  \n",
    "- **Space Complexity:** O(1)"
   ]
  },
  {
   "cell_type": "code",
   "execution_count": null,
   "id": "33adcae8-1ef5-478b-a652-17caf205f854",
   "metadata": {},
   "outputs": [],
   "source": [
    "class Solution:\n",
    "    def truncateSentence(self, s: str, k: int) -> str:\n",
    "        pass"
   ]
  }
 ],
 "metadata": {
  "kernelspec": {
   "display_name": "Python 3 (ipykernel)",
   "language": "python",
   "name": "python3"
  },
  "language_info": {
   "codemirror_mode": {
    "name": "ipython",
    "version": 3
   },
   "file_extension": ".py",
   "mimetype": "text/x-python",
   "name": "python",
   "nbconvert_exporter": "python",
   "pygments_lexer": "ipython3",
   "version": "3.12.6"
  }
 },
 "nbformat": 4,
 "nbformat_minor": 5
}
