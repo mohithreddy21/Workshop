{
 "cells": [
  {
   "cell_type": "markdown",
   "id": "8bc699c8-7384-4214-bcb7-f8b406a5fad9",
   "metadata": {},
   "source": [
    "# 345. Reverse Vowels of a String\n",
    "\n",
    "## Problem Statement\n",
    "Given a string `s`, reverse only all the vowels in the string and return it.  \n",
    "The vowels are `'a', 'e', 'i', 'o', 'u'` (both lowercase and uppercase).\n",
    "\n",
    "### Example 1\n",
    "Input: s = \"hello\"\n",
    "Output: \"holle\"\n",
    "\n",
    "### Example 2\n",
    "Input: s = \"leetcode\"\n",
    "Output: \"leotcede\"\n",
    "\n",
    "### Constraints\n",
    "- 1 <= s.length <= 3 * 10^5\n",
    "- `s` consists of printable ASCII characters.\n",
    "\n",
    "---"
   ]
  },
  {
   "cell_type": "markdown",
   "id": "1ccd8971-4a2c-43ed-83d7-ab3aa17f1d20",
   "metadata": {},
   "source": [
    "## Brute Force Algorithm\n",
    "1. Extract all vowels into a list.  \n",
    "2. Reverse the list.  \n",
    "3. Replace vowels in original string with reversed list items.  \n",
    "- **Time Complexity:** O(n)  \n",
    "- **Space Complexity:** O(n)  "
   ]
  },
  {
   "cell_type": "code",
   "execution_count": null,
   "id": "792b06f9-102e-4006-b229-0e89741f3c33",
   "metadata": {},
   "outputs": [],
   "source": [
    "\n",
    "def reverseVowels(self, s: str) -> str:\n",
    "    pass\n"
   ]
  },
  {
   "cell_type": "markdown",
   "id": "3837b3d5-3a83-487a-8af0-88837abc364b",
   "metadata": {},
   "source": [
    "## Optimal Algorithm (Two Pointers)\n",
    "1. Convert string to list.  \n",
    "2. Use two pointers `i` and `j` at start and end.  \n",
    "3. If both are vowels, swap and move pointers.  \n",
    "4. Continue until pointers cross.  \n",
    "- **Time Complexity:** O(n)  \n",
    "- **Space Complexity:** O(1)"
   ]
  },
  {
   "cell_type": "code",
   "execution_count": null,
   "id": "06764543-b67e-4fc8-bb83-a58e89de1648",
   "metadata": {},
   "outputs": [],
   "source": [
    "class Solution:\n",
    "    def reverseVowels(self, s: str) -> str:\n",
    "        pass\n"
   ]
  }
 ],
 "metadata": {
  "kernelspec": {
   "display_name": "Python 3 (ipykernel)",
   "language": "python",
   "name": "python3"
  },
  "language_info": {
   "codemirror_mode": {
    "name": "ipython",
    "version": 3
   },
   "file_extension": ".py",
   "mimetype": "text/x-python",
   "name": "python",
   "nbconvert_exporter": "python",
   "pygments_lexer": "ipython3",
   "version": "3.12.6"
  }
 },
 "nbformat": 4,
 "nbformat_minor": 5
}
