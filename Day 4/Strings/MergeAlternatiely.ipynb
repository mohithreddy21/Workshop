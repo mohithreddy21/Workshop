{
 "cells": [
  {
   "cell_type": "markdown",
   "id": "74222d3c-0ca1-4929-8326-95b18fd2d66f",
   "metadata": {},
   "source": [
    "# 1768. Merge Strings Alternately\n",
    "\n",
    "## Problem Statement\n",
    "You are given two strings `word1` and `word2`. Merge the strings by adding letters in alternating order, starting with `word1`.  \n",
    "If one string is longer, append the additional letters to the end of the merged string.\n",
    "\n",
    "### Example 1\n",
    "Input: word1 = \"abc\", word2 = \"pqr\"\n",
    "Output: \"apbqcr\"\n",
    "\n",
    "### Example 2\n",
    "Input: word1 = \"ab\", word2 = \"pqrs\"\n",
    "Output: \"apbqrs\"\n",
    "\n",
    "### Example 3\n",
    "Input: word1 = \"abcd\", word2 = \"pq\"\n",
    "Output: \"apbqcd\"\n",
    "\n",
    "\n",
    "### Constraints\n",
    "- 1 <= word1.length, word2.length <= 100\n",
    "- `word1` and `word2` consist of lowercase English letters.\n",
    "\n",
    "---"
   ]
  },
  {
   "cell_type": "markdown",
   "id": "8cf73829-e9ea-4293-988e-4eafcfcf98cc",
   "metadata": {},
   "source": [
    "## Algorithm\n",
    "1. Initialize two pointers for `word1` and `word2`.  \n",
    "2. Append characters alternately from both.  \n",
    "3. If one string ends, append the rest of the other string.  \n",
    "- **Time Complexity:** O(n+m)  \n",
    "- **Space Complexity:** O(n+m)\n"
   ]
  },
  {
   "cell_type": "code",
   "execution_count": null,
   "id": "e714f8bc-dd2e-4127-8bf4-348fac984b55",
   "metadata": {},
   "outputs": [],
   "source": [
    "class Solution:\n",
    "    def mergeAlternately(self, word1: str, word2: str) -> str:\n",
    "        pass"
   ]
  }
 ],
 "metadata": {
  "kernelspec": {
   "display_name": "Python 3 (ipykernel)",
   "language": "python",
   "name": "python3"
  },
  "language_info": {
   "codemirror_mode": {
    "name": "ipython",
    "version": 3
   },
   "file_extension": ".py",
   "mimetype": "text/x-python",
   "name": "python",
   "nbconvert_exporter": "python",
   "pygments_lexer": "ipython3",
   "version": "3.12.6"
  }
 },
 "nbformat": 4,
 "nbformat_minor": 5
}
