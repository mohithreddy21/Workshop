{
 "cells": [
  {
   "cell_type": "markdown",
   "id": "17814a6d-e9aa-4974-a4b8-db8d79632d33",
   "metadata": {},
   "source": [
    "# 387. First Unique Character in a String\n",
    "\n",
    "## Problem Statement\n",
    "Given a string `s`, find the first non-repeating character in it and return its index.  \n",
    "If it does not exist, return `-1`.\n",
    "\n",
    "### Example 1\n",
    "Input: s = \"leetcode\"\n",
    "Output: 0\n",
    "\n",
    "### Example 2\n",
    "Input: s = \"loveleetcode\"\n",
    "Output: 2\n",
    "\n",
    "### Example 3\n",
    "Input: s = \"aabb\"\n",
    "Output: -1\n",
    "\n",
    "\n",
    "### Constraints\n",
    "- 1 <= s.length <= 10^5\n",
    "- `s` consists of only lowercase English letters.\n",
    "\n",
    "---\n"
   ]
  },
  {
   "cell_type": "markdown",
   "id": "7841f565-dc53-4d82-9bd5-0495577ab8f8",
   "metadata": {},
   "source": [
    "## Brute Force Algorithm\n",
    "1. For each character in `s`, scan the entire string to check if it repeats.  \n",
    "2. If no repetition, return its index.  \n",
    "3. If all characters repeat, return `-1`.  \n",
    "- **Time Complexity:** O(n²)  \n",
    "- **Space Complexity:** O(1)  "
   ]
  },
  {
   "cell_type": "code",
   "execution_count": null,
   "id": "a58e6523-b44b-4652-a336-f12b8ccd5685",
   "metadata": {},
   "outputs": [],
   "source": [
    "\n",
    "def firstUniqChar(self, s: str) -> int:\n",
    "    pass\n"
   ]
  },
  {
   "cell_type": "markdown",
   "id": "63dcd506-bf6e-448a-b5ad-52ca42b12a1b",
   "metadata": {},
   "source": [
    "## Optimal Algorithm\n",
    "1. Use a hash map or counter to store character frequencies.  \n",
    "2. Iterate through the string again to find the first index where frequency = 1.  \n",
    "3. Return index or `-1`.  \n",
    "- **Time Complexity:** O(n)  \n",
    "- **Space Complexity:** O(1)"
   ]
  },
  {
   "cell_type": "code",
   "execution_count": null,
   "id": "e1086a66-0024-4bb4-9d4e-4af87fca9a01",
   "metadata": {},
   "outputs": [],
   "source": [
    "\n",
    "def firstUniqChar(self, s: str) -> int:\n",
    "    pass"
   ]
  }
 ],
 "metadata": {
  "kernelspec": {
   "display_name": "Python 3 (ipykernel)",
   "language": "python",
   "name": "python3"
  },
  "language_info": {
   "codemirror_mode": {
    "name": "ipython",
    "version": 3
   },
   "file_extension": ".py",
   "mimetype": "text/x-python",
   "name": "python",
   "nbconvert_exporter": "python",
   "pygments_lexer": "ipython3",
   "version": "3.12.6"
  }
 },
 "nbformat": 4,
 "nbformat_minor": 5
}
