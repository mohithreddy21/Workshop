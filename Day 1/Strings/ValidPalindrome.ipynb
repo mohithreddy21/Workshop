{
 "cells": [
  {
   "cell_type": "markdown",
   "id": "6f86e610-182a-49fe-9a04-1b64b2384704",
   "metadata": {},
   "source": [
    "# 📝 Problem: Valid Palindrome – #125\n",
    "\n",
    "A phrase is a palindrome if, after converting all uppercase letters into lowercase letters and removing all non-alphanumeric characters, it reads the same forward and backward.  \n",
    "\n",
    "---\n",
    "\n",
    "## Example\n",
    "- Input: `\"A man, a plan, a canal: Panama\"`  \n",
    "  Output: `true`  \n",
    "  Explanation: `\"amanaplanacanalpanama\"` is a palindrome.  \n",
    "\n",
    "- Input: `\"race a car\"`  \n",
    "  Output: `false`  \n",
    "\n",
    "- Input: `\" \"`  \n",
    "  Output: `true`  \n",
    "\n",
    "---\n",
    "\n",
    "## Constraints\n",
    "- `1 <= s.length <= 2 * 10^5`\n",
    "- `s` consists only of printable ASCII characters.\n",
    "\n",
    "---\n"
   ]
  },
  {
   "cell_type": "markdown",
   "id": "03412505-81a4-4b4a-bbc5-ae7fb38e1fcd",
   "metadata": {},
   "source": [
    "## Brute Force Approach\n",
    "\n",
    "**Algorithm:**\n",
    "1. Initialize an empty string `cleaned`.  \n",
    "2. Traverse each character `ch` in `s`:  \n",
    "   - If `ch` is alphanumeric, append its lowercase form to `cleaned`.  \n",
    "3. Reverse `cleaned` and compare with itself.  \n",
    "4. If equal → return True, else False.  \n",
    "\n",
    "**Time Complexity:** O(n).  \n",
    "**Space Complexity:** O(n).\n",
    "\n"
   ]
  },
  {
   "cell_type": "code",
   "execution_count": null,
   "id": "e3a5bd08-0e87-4f32-a07f-c8b868750a5d",
   "metadata": {},
   "outputs": [],
   "source": [
    "# Brute Force Approach - Student Template\n",
    "def isPalindrome_bruteforce(s: str) -> bool:\n",
    "    # TODO: Build a cleaned string containing only lowercase alphanumeric characters\n",
    "    # TODO: Compare cleaned with its reverse\n",
    "    pass\n",
    "\n",
    "# Example test cases\n",
    "print(isPalindrome_bruteforce(\"A man, a plan, a canal: Panama\"))  # Expected True\n",
    "print(isPalindrome_bruteforce(\"race a car\"))  # Expected False\n"
   ]
  },
  {
   "cell_type": "markdown",
   "id": "337ba60c-222a-4ef5-a332-a61661fd6144",
   "metadata": {},
   "source": [
    "## Better Approach\n",
    "\n",
    "**Algorithm:**\n",
    "1. Use a list `chars` instead of string concatenation.  \n",
    "2. Traverse each character `ch` in `s`:  \n",
    "   - If `ch` is alphanumeric, append its lowercase form to `chars`.  \n",
    "3. Join the list into a string `cleaned`.  \n",
    "4. Compare `cleaned` with its reverse.  \n",
    "\n",
    "**Time Complexity:** O(n).  \n",
    "**Space Complexity:** O(n), but more efficient in practice.\n"
   ]
  },
  {
   "cell_type": "code",
   "execution_count": null,
   "id": "1c5e76df-30af-43ed-bee6-86b949e9207e",
   "metadata": {},
   "outputs": [],
   "source": [
    "# Better Approach - Student Template\n",
    "def isPalindrome_better(s: str) -> bool:\n",
    "    # TODO: Collect lowercase alphanumeric characters in a list\n",
    "    # TODO: Join the list into a string\n",
    "    # TODO: Compare with its reverse\n",
    "    pass\n",
    "\n",
    "# Example test cases\n",
    "print(isPalindrome_better(\"A man, a plan, a canal: Panama\"))  # Expected True\n",
    "print(isPalindrome_better(\"race a car\"))  # Expected False\n"
   ]
  },
  {
   "cell_type": "markdown",
   "id": "0eadb9d1-b20f-4392-8c2f-4449aada0bf5",
   "metadata": {},
   "source": [
    "## Optimal Approach (Two Pointers)\n",
    "\n",
    "**Algorithm:**\n",
    "1. Initialize two pointers:  \n",
    "   - `left = 0`  \n",
    "   - `right = len(s) - 1`  \n",
    "2. While `left < right`:  \n",
    "   - Skip non-alphanumeric characters at `left` and `right`.  \n",
    "   - Compare lowercase versions of `s[left]` and `s[right]`.  \n",
    "     - If mismatch → return False.  \n",
    "   - Move both pointers inward.  \n",
    "3. If all valid characters match → return True.  \n",
    "\n",
    "**Time Complexity:** O(n).  \n",
    "**Space Complexity:** O(1).\n"
   ]
  },
  {
   "cell_type": "code",
   "execution_count": null,
   "id": "417d6cf3-160d-4f97-8ca0-98c0b1472806",
   "metadata": {},
   "outputs": [],
   "source": []
  }
 ],
 "metadata": {
  "kernelspec": {
   "display_name": "Python 3 (ipykernel)",
   "language": "python",
   "name": "python3"
  },
  "language_info": {
   "codemirror_mode": {
    "name": "ipython",
    "version": 3
   },
   "file_extension": ".py",
   "mimetype": "text/x-python",
   "name": "python",
   "nbconvert_exporter": "python",
   "pygments_lexer": "ipython3",
   "version": "3.12.6"
  }
 },
 "nbformat": 4,
 "nbformat_minor": 5
}
