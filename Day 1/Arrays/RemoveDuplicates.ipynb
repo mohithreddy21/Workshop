{
 "cells": [
  {
   "cell_type": "markdown",
   "id": "8945cd11-d116-4c35-ae00-e8cd6d2e9785",
   "metadata": {},
   "source": [
    "# 📝 Problem 3: Remove Duplicates from Sorted Array\n",
    "\n",
    "---\n",
    "\n",
    "## 📌 Problem Statement\n",
    "Given an integer array `nums` sorted in **non-decreasing order**, remove the duplicates **in-place** such that each unique element appears only once.  \n",
    "\n",
    "The relative order of the elements should be kept the same.  \n",
    "\n",
    "Return the number of unique elements in `nums`.  \n",
    "\n",
    "- You must do this with **O(1) extra memory**.  \n",
    "\n",
    "---\n",
    "\n",
    "## 🔑 Example\n",
    "**Input:**\n",
    "nums = [1,1,2]\n",
    "\n",
    "**Output:**\n",
    "2, nums = [1,2,_]"
   ]
  },
  {
   "cell_type": "markdown",
   "id": "de3d8536-8a3e-47fa-a576-518f2ae09443",
   "metadata": {},
   "source": [
    "### 1. Brute Force\n",
    "- Use an auxiliary data structure (like a list or set).  \n",
    "- Copy unique elements into it.  \n",
    "- Overwrite the original array with these unique elements.  \n",
    "\n",
    "⏱️ **Time Complexity:** O(n)  \n",
    "💾 **Space Complexity:** O(n)  \n",
    "(Not valid if O(1) space is required, but good for beginners to understand.)  \n"
   ]
  },
  {
   "cell_type": "code",
   "execution_count": null,
   "id": "e8cae9f4-7d1f-4503-ae72-c5533d729a0e",
   "metadata": {},
   "outputs": [],
   "source": [
    "# Brute Force Approach (Python Stub)\n",
    "def removeDuplicates_bruteforce(nums):\n",
    "    # TODO: Implement brute force using extra array/set\n",
    "    pass\n"
   ]
  },
  {
   "cell_type": "markdown",
   "id": "8ae529f0-7c02-4835-8b41-917118a9e008",
   "metadata": {},
   "source": [
    "### 2. Better Approach (Manual Shift)\n",
    "- Traverse the array.  \n",
    "- When a duplicate is found, shift the rest of the array left.  \n",
    "- Continue until end.  \n",
    "\n",
    "⏱️ **Time Complexity:** O(n²) (shifting elements for each duplicate)  \n",
    "💾 **Space Complexity:** O(1)  \n"
   ]
  },
  {
   "cell_type": "code",
   "execution_count": null,
   "id": "a3e8e953-b90c-4742-b60b-3c2e0927320e",
   "metadata": {},
   "outputs": [],
   "source": [
    "# Better Approach (Manual Shift) - Python Stub\n",
    "def removeDuplicates_better(nums):\n",
    "    # TODO: Implement manual shifting approach\n",
    "    pass\n"
   ]
  },
  {
   "cell_type": "markdown",
   "id": "9b4e4fbe-7cda-45e9-83d8-542e4c84218c",
   "metadata": {},
   "source": [
    "### 3. Optimal Approach (Two Pointers)\n",
    "- Use two pointers:  \n",
    "  - `i` → slow pointer (marks the position of the last unique element)  \n",
    "  - `j` → fast pointer (scans the array)  \n",
    "- If `nums[i] != nums[j]`, increment `i` and copy `nums[j]` into `nums[i]`.  \n",
    "- Return `i + 1` as the count of unique elements.  \n",
    "\n",
    "⏱️ **Time Complexity:** O(n)  \n",
    "💾 **Space Complexity:** O(1)  \n"
   ]
  },
  {
   "cell_type": "code",
   "execution_count": null,
   "id": "1547f70b-8ca5-4724-bfaf-c5e74fdcea66",
   "metadata": {},
   "outputs": [],
   "source": [
    "# Optimal Approach (Two Pointers) - Python Stub\n",
    "def removeDuplicates(nums):\n",
    "    # TODO: Implement optimal two-pointer solution\n",
    "    pass\n"
   ]
  }
 ],
 "metadata": {
  "kernelspec": {
   "display_name": "Python 3 (ipykernel)",
   "language": "python",
   "name": "python3"
  },
  "language_info": {
   "codemirror_mode": {
    "name": "ipython",
    "version": 3
   },
   "file_extension": ".py",
   "mimetype": "text/x-python",
   "name": "python",
   "nbconvert_exporter": "python",
   "pygments_lexer": "ipython3",
   "version": "3.12.6"
  }
 },
 "nbformat": 4,
 "nbformat_minor": 5
}
