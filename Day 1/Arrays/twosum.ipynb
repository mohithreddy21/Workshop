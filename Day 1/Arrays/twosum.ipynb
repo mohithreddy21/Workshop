{
 "cells": [
  {
   "cell_type": "markdown",
   "id": "a83b70dc-359e-49e0-abaa-6a4632edb14b",
   "metadata": {},
   "source": [
    "# 📝 Problem 1: Two Sum\n",
    "\n",
    "---\n",
    "\n",
    "## 📌 Problem Statement\n",
    "Given an array of integers `nums` and an integer `target`, return the indices of the two numbers such that they add up to `target`.\n",
    "\n",
    "- Each input will have exactly one solution.  \n",
    "- You may not use the same element twice.  \n",
    "- You can return the answer in any order.  \n",
    "\n",
    "---\n",
    "\n",
    "## 🔑 Example\n",
    "**Input:**\n",
    "nums = [2,7,11,15], target = 9\n",
    "**Output:**\n",
    "[0,1]"
   ]
  },
  {
   "cell_type": "markdown",
   "id": "7d266bc0-1c62-4c39-9d6d-4302291cf03c",
   "metadata": {},
   "source": [
    "### 1. Brute Force\n",
    "- Iterate through every pair `(i, j)`.  \n",
    "- Check if `nums[i] + nums[j] == target`.  \n",
    "- Return the indices when found.  \n",
    "\n",
    "⏱️ **Time Complexity:** O(n²)  \n",
    "💾 **Space Complexity:** O(1)  \n"
   ]
  },
  {
   "cell_type": "code",
   "execution_count": 4,
   "id": "fc61870c-cd19-46a9-8900-457b559c35db",
   "metadata": {},
   "outputs": [
    {
     "data": {
      "text/plain": [
       "[1, 0]"
      ]
     },
     "execution_count": 4,
     "metadata": {},
     "output_type": "execute_result"
    }
   ],
   "source": [
    "# Brute Force Approach (Python Stub)\n",
    "def twoSum_bruteforce(nums, target):\n",
    "    # TODO: Implement brute force solution\n",
    "    seen = {}\n",
    "    for index, element in enumerate(nums):\n",
    "        complement = target - element\n",
    "        if complement in seen:\n",
    "            return [index,seen[complement]]\n",
    "        if element not in seen:\n",
    "            seen[element] = index\n",
    "nums = [2,7,11,15]\n",
    "target = 9      \n",
    "twoSum_bruteforce(nums, target)\n"
   ]
  },
  {
   "cell_type": "code",
   "execution_count": null,
   "id": "f799740e-5b89-40a9-92fe-1cb07fad6a40",
   "metadata": {},
   "outputs": [],
   "source": []
  },
  {
   "cell_type": "markdown",
   "id": "a6fc3d18-45fe-40af-8ec4-9f51c7ae8cef",
   "metadata": {},
   "source": [
    "### 2. Better Approach (Sorting + Two Pointers)\n",
    "- Sort the array while keeping track of original indices.  \n",
    "- Use two pointers (`left`, `right`) and move accordingly:  \n",
    "  - If `sum < target`, move `left` forward.  \n",
    "  - If `sum > target`, move `right` backward.  \n",
    "  - If equal, return the indices.  \n",
    "\n",
    "⏱️ **Time Complexity:** O(n log n) (due to sorting)  \n",
    "💾 **Space Complexity:** O(n) (to store original indices)  \n"
   ]
  },
  {
   "cell_type": "code",
   "execution_count": null,
   "id": "55bd8045-48f2-4a97-bb63-fb4f99143f6e",
   "metadata": {},
   "outputs": [],
   "source": [
    "# Better Approach (Sorting + Two Pointers) - Python Stub\n",
    "def twoSum_twoPointers(nums, target):\n",
    "    # TODO: Implement two pointer solution\n",
    "    pass\n"
   ]
  },
  {
   "cell_type": "markdown",
   "id": "8f865c7c-7e55-45a5-8715-536df74c3e7f",
   "metadata": {},
   "source": [
    "### 3. Optimal Approach (Hash Map)\n",
    "- Use a **HashMap** to store numbers and their indices.  \n",
    "- For each number `x`, check if `target - x` already exists in the map.  \n",
    "- If yes → return the pair of indices.  \n",
    "- If no → add `x` to the map.  \n",
    "\n",
    "⏱️ **Time Complexity:** O(n)  \n",
    "💾 **Space Complexity:** O(n)  \n"
   ]
  },
  {
   "cell_type": "code",
   "execution_count": null,
   "id": "4c1d68a8-5c0a-4d80-9522-ae824b46422d",
   "metadata": {},
   "outputs": [],
   "source": [
    "# Optimal Approach (Hash Map) - Python Stub\n",
    "def twoSum(nums, target):\n",
    "    # TODO: Implement optimal solution using hashmap\n",
    "    pass\n"
   ]
  }
 ],
 "metadata": {
  "kernelspec": {
   "display_name": "Python 3 (ipykernel)",
   "language": "python",
   "name": "python3"
  },
  "language_info": {
   "codemirror_mode": {
    "name": "ipython",
    "version": 3
   },
   "file_extension": ".py",
   "mimetype": "text/x-python",
   "name": "python",
   "nbconvert_exporter": "python",
   "pygments_lexer": "ipython3",
   "version": "3.12.6"
  }
 },
 "nbformat": 4,
 "nbformat_minor": 5
}
