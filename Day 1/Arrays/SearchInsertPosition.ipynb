{
 "cells": [
  {
   "cell_type": "markdown",
   "id": "e7b5fde7-1cb1-4817-871f-072d3f13dcfa",
   "metadata": {},
   "source": [
    "# Search Insert Position Problem\n",
    "\n",
    "## Problem Statement:\n",
    "Given a **sorted array** `nums` and a **target** value, return the **index** if the target is found.  \n",
    "If not, return the index where it would be if it were inserted in order.  \n",
    "\n",
    "---\n",
    "**Example:**\n",
    "\n",
    "\n",
    "**Example 1:**\n",
    "Input: nums = [1, 3, 5, 6], target = 5\n",
    "Output: 2\n",
    "Explanation: Target 5 is found at index 2.\n",
    "\n",
    "\n",
    "**Example 2:**\n",
    "Input: nums = [1, 3, 5, 6], target = 2\n",
    "Output: 1\n",
    "Explanation: Target 2 is not in the array. It should be inserted at index 1 to maintain order.\n",
    "\n",
    "\n",
    "**Example 3:**\n",
    "Input: nums = [1, 3, 5, 6], target = 7\n",
    "Output: 4\n",
    "Explanation: Target 7 is larger than all elements, so it should be inserted at index 4.\n",
    "\n",
    "\n",
    "---\n",
    "\n",
    "## Constraints:\n",
    "\n",
    "- `1 <= nums.length <= 10^4`  \n",
    "- `-10^4 <= nums[i], target <= 10^4`  \n",
    "- `nums` is **sorted in ascending order**  \n",
    "- All elements of `nums` are **distinct**"
   ]
  },
  {
   "cell_type": "markdown",
   "id": "037b53f1-175f-4932-829d-a1219d69b21d",
   "metadata": {},
   "source": [
    "## Algorithms\n",
    "\n",
    "### 1. Brute Force Approach:\n",
    "- Iterate through the array from start to end.\n",
    "- If an element is **greater than or equal** to `target`, return its index.\n",
    "- If no such element is found, return `len(nums)`.\n",
    "\n",
    "**Time Complexity:** O(n)  \n",
    "**Space Complexity:** O(1)"
   ]
  },
  {
   "cell_type": "code",
   "execution_count": null,
   "id": "5bc9099b-ec5c-4960-8c56-6d383ab7388e",
   "metadata": {},
   "outputs": [],
   "source": [
    "# TODO: Implement Brute Force Approach\n",
    "def search_insert_brute(nums, target):\n",
    "    # Your code here\n",
    "    pass\n",
    "\n",
    "# Test\n",
    "nums = [1,3,5,6]\n",
    "target = 2\n",
    "print(search_insert_brute(nums, target))  # Expected Output: 1\n"
   ]
  },
  {
   "cell_type": "markdown",
   "id": "d8fe5426-258e-44f3-9244-051c5448cc01",
   "metadata": {},
   "source": [
    "### 2. Optimal Approach (Binary Search):\n",
    "- Initialize `low = 0`, `high = len(nums) - 1`.\n",
    "- While `low <= high`:\n",
    "    - Compute `mid = (low + high) // 2`\n",
    "    - If `nums[mid] == target`, return `mid`\n",
    "    - If `nums[mid] < target`, search in the **right half** (`low = mid + 1`)\n",
    "    - If `nums[mid] > target`, search in the **left half** (`high = mid - 1`)\n",
    "- Return `low` as the insert position.\n",
    "\n",
    "**Time Complexity:** O(log n)  \n",
    "**Space Complexity:** O(1)"
   ]
  },
  {
   "cell_type": "code",
   "execution_count": null,
   "id": "90ab1018-5c05-45af-ac57-c6241f5f8bf0",
   "metadata": {},
   "outputs": [],
   "source": [
    "# TODO: Implement Optimal Approach (Binary Search)\n",
    "def search_insert_optimal(nums, target):\n",
    "    # Your code here\n",
    "    pass\n",
    "\n",
    "# Test\n",
    "nums = [1,3,5,6]\n",
    "target = 7\n",
    "print(search_insert_optimal(nums, target))  # Expected Output: 4"
   ]
  }
 ],
 "metadata": {
  "kernelspec": {
   "display_name": "Python 3 (ipykernel)",
   "language": "python",
   "name": "python3"
  },
  "language_info": {
   "codemirror_mode": {
    "name": "ipython",
    "version": 3
   },
   "file_extension": ".py",
   "mimetype": "text/x-python",
   "name": "python",
   "nbconvert_exporter": "python",
   "pygments_lexer": "ipython3",
   "version": "3.12.6"
  }
 },
 "nbformat": 4,
 "nbformat_minor": 5
}
