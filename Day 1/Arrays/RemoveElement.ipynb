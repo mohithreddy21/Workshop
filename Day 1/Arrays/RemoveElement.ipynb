{
 "cells": [
  {
   "cell_type": "markdown",
   "id": "20757ead-91d7-4cc8-b99a-ec5f0fe1257e",
   "metadata": {},
   "source": [
    "# 📝 Problem: Remove Element\n",
    "\n",
    "### Problem Statement\n",
    "Given an integer array `nums` and an integer `val`, remove all occurrences of `val` in `nums` **in-place**.  \n",
    "The relative order of the elements may be changed.  \n",
    "\n",
    "Since it is impossible to change the length of the array in some languages, you must place the result in the first part of the array `nums`.  \n",
    "More formally, if there are `k` elements after removing the duplicates, then the first `k` elements of `nums` should hold the final result.  \n",
    "It does not matter what you leave beyond the first `k` elements.\n",
    "\n",
    "Return `k` after placing the final result in the first `k` slots of `nums`.\n",
    "\n",
    "---\n",
    "\n",
    "### Example 1\n",
    "**Input:**  \n",
    "`nums = [3,2,2,3], val = 3`  \n",
    "**Output:**  \n",
    "`2, nums = [2,2,_,_]`\n",
    "\n",
    "---\n",
    "\n",
    "### Example 2\n",
    "**Input:**  \n",
    "`nums = [0,1,2,2,3,0,4,2], val = 2`  \n",
    "**Output:**  \n",
    "`5, nums = [0,1,3,0,4,_,_,_]`\n",
    "\n",
    "---\n",
    "\n",
    "### Constraints\n",
    "- `0 <= nums.length <= 100`\n",
    "- `0 <= nums[i] <= 50`\n",
    "- `0 <= val <= 100`\n",
    "\n",
    "\n",
    "\n"
   ]
  },
  {
   "cell_type": "markdown",
   "id": "f1d7c843-701e-4464-a029-50e289387a7b",
   "metadata": {},
   "source": [
    "## 🔎 Approaches\n",
    "\n",
    "### 1. Brute Force\n",
    "- Create a new array.\n",
    "- Iterate through `nums`, copy all elements not equal to `val`.\n",
    "- Return the size of the new array.\n",
    "- Not space-efficient since it uses extra space."
   ]
  },
  {
   "cell_type": "code",
   "execution_count": null,
   "id": "600f2218-d6f5-4a36-9a6c-dd9a80a25745",
   "metadata": {},
   "outputs": [],
   "source": [
    "# TODO: Implement Brute Force Approach\n",
    "def remove_element_brute(nums, val):\n",
    "    # Your code here\n",
    "    pass\n",
    "\n",
    "# Test\n",
    "nums = [3,2,2,3]\n",
    "val = 3\n",
    "print(remove_element_brute(nums, val))  # Expected Output: 2\n"
   ]
  },
  {
   "cell_type": "markdown",
   "id": "7959ad5b-7dac-41e6-b9da-358f467184bd",
   "metadata": {},
   "source": [
    "### 2. Better Approach:\n",
    "- Use an auxiliary array or list to store elements not equal to `val`.\n",
    "- Copy these elements back to the original array.\n",
    "- **Time Complexity:** O(n)\n",
    "- **Space Complexity:** O(n)"
   ]
  },
  {
   "cell_type": "code",
   "execution_count": null,
   "id": "36f982a7-ad1d-45d9-b503-bdaff827e568",
   "metadata": {},
   "outputs": [],
   "source": [
    "# TODO: Implement Better Approach using auxiliary array\n",
    "def remove_element_better(nums, val):\n",
    "    # Your code here\n",
    "    pass\n",
    "\n",
    "# Test\n",
    "nums = [0,1,2,2,3,0,4,2]\n",
    "val = 2\n",
    "print(remove_element_better(nums, val))  # Expected Output: 5\n"
   ]
  },
  {
   "cell_type": "markdown",
   "id": "b830e5ab-00bf-4c0d-acfc-476d0033ed08",
   "metadata": {},
   "source": [
    "### 3. Optimal Approach (Two Pointer):\n",
    "- Maintain a `slow` pointer at the start.\n",
    "- Traverse array with a `fast` pointer:\n",
    "    - If `nums[fast] != val`, assign `nums[slow] = nums[fast]` and increment `slow`.\n",
    "- At the end, `slow` will be the count of elements not equal to `val`.\n",
    "- **Time Complexity:** O(n)\n",
    "- **Space Complexity:** O(1)"
   ]
  },
  {
   "cell_type": "code",
   "execution_count": 3,
   "id": "2ba11a04-a5f6-43c5-9d6b-ec1dc7d0ff75",
   "metadata": {},
   "outputs": [
    {
     "name": "stdout",
     "output_type": "stream",
     "text": [
      "2\n",
      "[3, 3, 2, 3]\n"
     ]
    }
   ],
   "source": [
    "# TODO: Implement Optimal Approach (Two Pointer)\n",
    "def remove_element_optimal(nums, val):\n",
    "    # Your code here\n",
    "    pass\n",
    "\n",
    "# Test\n",
    "nums = [3,2,2,3]\n",
    "val = 3\n",
    "print(remove_element_optimal(nums, val))  # Expected Output: 2\n"
   ]
  },
  {
   "cell_type": "code",
   "execution_count": null,
   "id": "6b4c8570-7a47-4814-9555-f73ee9c84e47",
   "metadata": {},
   "outputs": [],
   "source": []
  }
 ],
 "metadata": {
  "kernelspec": {
   "display_name": "Python 3 (ipykernel)",
   "language": "python",
   "name": "python3"
  },
  "language_info": {
   "codemirror_mode": {
    "name": "ipython",
    "version": 3
   },
   "file_extension": ".py",
   "mimetype": "text/x-python",
   "name": "python",
   "nbconvert_exporter": "python",
   "pygments_lexer": "ipython3",
   "version": "3.12.6"
  }
 },
 "nbformat": 4,
 "nbformat_minor": 5
}
