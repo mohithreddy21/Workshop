{
 "cells": [
  {
   "cell_type": "markdown",
   "id": "8a50dc15-c4aa-4cf4-959c-44c1ba54aa54",
   "metadata": {},
   "source": [
    "# 📝 Problem 2: Best Time to Buy and Sell Stock\n",
    "\n",
    "---\n",
    "\n",
    "## 📌 Problem Statement\n",
    "You are given an array `prices` where `prices[i]` is the price of a given stock on the `i`-th day.  \n",
    "\n",
    "You want to maximize your profit by choosing a single day to buy one stock and choosing a different day in the future to sell that stock.  \n",
    "\n",
    "Return the maximum profit you can achieve from this transaction. If you cannot achieve any profit, return `0`.  \n",
    "\n",
    "---\n",
    "\n",
    "## 🔑 Example\n",
    "**Input:**\n",
    "prices = [7,1,5,3,6,4]\n",
    "\n",
    "**Output:**\n",
    "5"
   ]
  },
  {
   "cell_type": "markdown",
   "id": "a2ce0b36-85fa-49b8-9e09-c8ee04f2e1fa",
   "metadata": {},
   "source": [
    "### 1. Brute Force\n",
    "- Try every pair `(i, j)` where `i < j`.  \n",
    "- Compute profit = `prices[j] - prices[i]`.  \n",
    "- Keep track of the maximum profit.  \n",
    "\n",
    "⏱️ **Time Complexity:** O(n²)  \n",
    "💾 **Space Complexity:** O(1)  \n"
   ]
  },
  {
   "cell_type": "code",
   "execution_count": null,
   "id": "5496feb4-e1a0-43c5-be33-418fe3c6ef8b",
   "metadata": {},
   "outputs": [],
   "source": [
    "# Brute Force Approach (Python Stub)\n",
    "def maxProfit_bruteforce(prices):\n",
    "    # TODO: Implement brute force solution\n",
    "    pass\n"
   ]
  },
  {
   "cell_type": "markdown",
   "id": "c4bc7a2a-880f-4cf5-b81e-5c468b693ea9",
   "metadata": {},
   "source": [
    "### 2. Better Approach (Precomputing Future Max Prices)\n",
    "- Precompute the maximum price from the right side for each day.  \n",
    "- For each day `i`, compute profit = `maxRight[i] - prices[i]`.  \n",
    "- Keep track of the maximum profit.  \n",
    "\n",
    "⏱️ **Time Complexity:** O(n)  \n",
    "💾 **Space Complexity:** O(n)  \n"
   ]
  },
  {
   "cell_type": "code",
   "execution_count": null,
   "id": "d68aaa8e-1505-41a2-9631-d5feebeb1236",
   "metadata": {},
   "outputs": [],
   "source": [
    "# Better Approach (Precompute Right Max) - Python Stub\n",
    "def maxProfit_better(prices):\n",
    "    # TODO: Implement better solution using right max array\n",
    "    pass\n"
   ]
  },
  {
   "cell_type": "markdown",
   "id": "f29b756b-312e-4225-b452-d04722809b8c",
   "metadata": {},
   "source": [
    "### 3. Optimal Approach (Single Pass - Kadane’s Style)\n",
    "- Track the **minimum price so far** as you iterate.  \n",
    "- For each day, compute profit = `prices[i] - minPriceSoFar`.  \n",
    "- Update `maxProfit` if this profit is greater.  \n",
    "- Return `maxProfit`.  \n",
    "\n",
    "⏱️ **Time Complexity:** O(n)  \n",
    "💾 **Space Complexity:** O(1)  \n"
   ]
  },
  {
   "cell_type": "code",
   "execution_count": null,
   "id": "266eb1d8-d314-4d9d-b058-f3ea1538c80c",
   "metadata": {},
   "outputs": [],
   "source": [
    "# Optimal Approach (Single Pass) - Python Stub\n",
    "def maxProfit(prices):\n",
    "    # TODO: Implement optimal solution using single pass\n",
    "    pass\n"
   ]
  },
  {
   "cell_type": "code",
   "execution_count": null,
   "id": "bb0cc1b9-9c43-4de8-b812-54cba56a7ff5",
   "metadata": {},
   "outputs": [],
   "source": []
  }
 ],
 "metadata": {
  "kernelspec": {
   "display_name": "Python 3 (ipykernel)",
   "language": "python",
   "name": "python3"
  },
  "language_info": {
   "codemirror_mode": {
    "name": "ipython",
    "version": 3
   },
   "file_extension": ".py",
   "mimetype": "text/x-python",
   "name": "python",
   "nbconvert_exporter": "python",
   "pygments_lexer": "ipython3",
   "version": "3.12.6"
  }
 },
 "nbformat": 4,
 "nbformat_minor": 5
}
